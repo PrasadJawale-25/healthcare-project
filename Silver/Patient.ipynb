{
 "cells": [
  {
   "cell_type": "code",
   "execution_count": 0,
   "metadata": {
    "application/vnd.databricks.v1+cell": {
     "cellMetadata": {
      "byteLimit": 2048000,
      "rowLimit": 10000
     },
     "inputWidgets": {},
     "nuid": "205e0d48-c9df-485e-a047-ce1eb41a377a",
     "showTitle": false,
     "tableResultSettingsMap": {},
     "title": ""
    }
   },
   "outputs": [],
   "source": [
    "df_hosa = spark.read.parquet(\"/mnt/bronze/hosa/patients\")\n",
    "df_hosa.createOrReplaceTempView(\"patients_hosa\")\n",
    "\n",
    "df_hosb = spark.read.parquet(\"/mnt/bronze/hosb/patients\")\n",
    "df_hosb.createOrReplaceTempView(\"patients_hosb\")\n",
    "\n"
   ]
  },
  {
   "cell_type": "code",
   "execution_count": 0,
   "metadata": {
    "application/vnd.databricks.v1+cell": {
     "cellMetadata": {
      "byteLimit": 2048000,
      "implicitDf": true,
      "rowLimit": 10000
     },
     "inputWidgets": {},
     "nuid": "e100d9e4-cd4c-4986-b7be-4eb8127f683e",
     "showTitle": false,
     "tableResultSettingsMap": {},
     "title": ""
    }
   },
   "outputs": [],
   "source": [
    "%sql\n",
    "select * from patients_hosa"
   ]
  },
  {
   "cell_type": "code",
   "execution_count": 0,
   "metadata": {
    "application/vnd.databricks.v1+cell": {
     "cellMetadata": {
      "byteLimit": 2048000,
      "implicitDf": true,
      "rowLimit": 10000
     },
     "inputWidgets": {},
     "nuid": "e5c9cc5f-0a72-45b6-8a03-03534695fc0e",
     "showTitle": false,
     "tableResultSettingsMap": {},
     "title": ""
    }
   },
   "outputs": [],
   "source": [
    "%sql\n",
    "select * from patients_hosb"
   ]
  },
  {
   "cell_type": "code",
   "execution_count": 0,
   "metadata": {
    "application/vnd.databricks.v1+cell": {
     "cellMetadata": {
      "byteLimit": 2048000,
      "implicitDf": true,
      "rowLimit": 10000
     },
     "inputWidgets": {},
     "nuid": "03ca41f3-1762-4d1b-887a-7f4d82ce5f43",
     "showTitle": false,
     "tableResultSettingsMap": {},
     "title": ""
    }
   },
   "outputs": [],
   "source": [
    "%sql\n",
    "create or replace temp view cdm_patient as\n",
    "select concat(SRC_PatientID,'-',datasource) as Patient_Key,* from\n",
    "(\n",
    "  select\n",
    "  PatientID as SRC_PatientID,\n",
    "  FirstName,\n",
    "  LastName,\n",
    "  MiddleName,\n",
    "  SSN,\n",
    "  PhoneNumber,\n",
    "  Gender,\n",
    "  DOB,\n",
    "  Address,\n",
    "  ModifiedDate,\n",
    "  datasource\n",
    "  from patients_hosa\n",
    "\n",
    "  union all\n",
    "  \n",
    "  select\n",
    "  ID as SRC_PatientID,\n",
    "  F_Name as FirstName,\n",
    "  L_Name as LastName,\n",
    "  M_Name as MiddleName,\n",
    "  SSN,\n",
    "  PhoneNumber,\n",
    "  Gender,\n",
    "  DOB,\n",
    "  Address,\n",
    "  Updated_Date as ModifiedDate,\n",
    "  datasource\n",
    "  from patients_hosb\n",
    ")"
   ]
  },
  {
   "cell_type": "code",
   "execution_count": 0,
   "metadata": {
    "application/vnd.databricks.v1+cell": {
     "cellMetadata": {
      "byteLimit": 2048000,
      "implicitDf": true,
      "rowLimit": 10000
     },
     "inputWidgets": {},
     "nuid": "cc362dbc-74c9-41ec-86e2-8aaee04ae1b7",
     "showTitle": false,
     "tableResultSettingsMap": {},
     "title": ""
    }
   },
   "outputs": [],
   "source": [
    "%sql\n",
    "select * from cdm_patient"
   ]
  },
  {
   "cell_type": "code",
   "execution_count": 0,
   "metadata": {
    "application/vnd.databricks.v1+cell": {
     "cellMetadata": {
      "byteLimit": 2048000,
      "implicitDf": true,
      "rowLimit": 10000
     },
     "inputWidgets": {},
     "nuid": "df3370c0-428f-4e27-8c94-93f29115641a",
     "showTitle": false,
     "tableResultSettingsMap": {},
     "title": ""
    }
   },
   "outputs": [],
   "source": [
    "%sql\n",
    "create or replace temp view  quality_checks as\n",
    "select\n",
    "  Patient_Key,\n",
    "  SRC_PatientID,\n",
    "  FirstName,\n",
    "  LastName,\n",
    "  MiddleName,\n",
    "  SSN,\n",
    "  PhoneNumber,\n",
    "  Gender,\n",
    "  DOB,\n",
    "  Address,\n",
    "  ModifiedDate as SRC_ModifiedDate,\n",
    "  datasource,\n",
    "  CASE\n",
    "    WHEN SRC_PatientID is null or DOB is null or FirstName is null or lower(FirstName)='null' then true\n",
    "    else false\n",
    "  end as is_quarantined\n",
    "from cdm_patient\n"
   ]
  },
  {
   "cell_type": "code",
   "execution_count": 0,
   "metadata": {
    "application/vnd.databricks.v1+cell": {
     "cellMetadata": {
      "byteLimit": 2048000,
      "implicitDf": true,
      "rowLimit": 10000
     },
     "inputWidgets": {},
     "nuid": "980fec0c-587f-47cb-ad1f-48bd2736a97a",
     "showTitle": false,
     "tableResultSettingsMap": {},
     "title": ""
    }
   },
   "outputs": [],
   "source": [
    "%sql    \n",
    "select * from quality_checks"
   ]
  },
  {
   "cell_type": "code",
   "execution_count": 0,
   "metadata": {
    "application/vnd.databricks.v1+cell": {
     "cellMetadata": {
      "byteLimit": 2048000,
      "implicitDf": true,
      "rowLimit": 10000
     },
     "inputWidgets": {},
     "nuid": "ae358cf1-8f09-42ec-92b9-5f518db09d76",
     "showTitle": false,
     "tableResultSettingsMap": {},
     "title": ""
    }
   },
   "outputs": [],
   "source": [
    "%sql\n",
    "create table if not exists silver.patients(\n",
    "  Patient_Key string,\n",
    "  SRC_PatientID string,\n",
    "  FirstName string,\n",
    "  LastName string,\n",
    "  MiddleName string,\n",
    "  SSN string,\n",
    "  PhoneNumber string,\n",
    "  Gender string,\n",
    "  DOB date,\n",
    "  Address string,\n",
    "  SRC_ModifiedDate date,\n",
    "  datasource string,\n",
    "  is_quarantined boolean,\n",
    "  inserted_date timestamp,\n",
    "  modified_date timestamp,\n",
    "  is_current boolean\n",
    ")\n",
    "using delta"
   ]
  },
  {
   "cell_type": "code",
   "execution_count": 0,
   "metadata": {
    "application/vnd.databricks.v1+cell": {
     "cellMetadata": {
      "byteLimit": 2048000,
      "implicitDf": true,
      "rowLimit": 10000
     },
     "inputWidgets": {},
     "nuid": "b5687373-2259-444a-a97c-0bc420c29810",
     "showTitle": false,
     "tableResultSettingsMap": {},
     "title": ""
    }
   },
   "outputs": [],
   "source": [
    "%sql\n",
    "merge into silver.patients as target\n",
    "using quality_checks as source\n",
    "on target.Patient_Key = source.Patient_Key\n",
    "and is_current = true\n",
    "when matched\n",
    "and (\n",
    "  target.SRC_PatientID != source.SRC_PatientID\n",
    "  or target.FirstName != source.FirstName\n",
    "  or target.LastName != source.LastName\n",
    "  or target.MiddleName != source.MiddleName\n",
    "  or target.SSN != source.SSN\n",
    "  or target.PhoneNumber != source.PhoneNumber\n",
    "  or target.Gender != source.Gender\n",
    "  or target.DOB != source.DOB\n",
    "  or target.Address != source.Address\n",
    "  or target.SRC_ModifiedDate != source.SRC_ModifiedDate\n",
    "  or target.datasource != source.datasource\n",
    "  or target.is_quarantined != source.is_quarantined\n",
    ")\n",
    "Then update set\n",
    "  target.is_current = false,\n",
    "  target.modified_date = current_timestamp()\n",
    "  \n",
    "when not matched\n",
    "Then insert (\n",
    "  Patient_Key,\n",
    "  SRC_PatientID,\n",
    "  FirstName,\n",
    "  LastName,\n",
    "  MiddleName,\n",
    "  SSN,\n",
    "  PhoneNumber,\n",
    "  Gender,\n",
    "  DOB,\n",
    "  Address,\n",
    "  SRC_ModifiedDate,\n",
    "  datasource,\n",
    "  is_quarantined,\n",
    "  inserted_date,\n",
    "  modified_date,\n",
    "  is_current\n",
    ") values (\n",
    "  source.Patient_Key,\n",
    "  source.SRC_PatientID,\n",
    "  source.FirstName,\n",
    "  source.LastName,\n",
    "  source.MiddleName,\n",
    "  source.SSN,\n",
    "  source.PhoneNumber,\n",
    "  source.Gender,\n",
    "  source.DOB,\n",
    "  source.Address,\n",
    "  source.SRC_ModifiedDate,\n",
    "  source.datasource,\n",
    "  source.is_quarantined,\n",
    "  current_timestamp(),\n",
    "  current_timestamp(),\n",
    "  true\n",
    ")"
   ]
  },
  {
   "cell_type": "code",
   "execution_count": 0,
   "metadata": {
    "application/vnd.databricks.v1+cell": {
     "cellMetadata": {},
     "inputWidgets": {},
     "nuid": "edeb52e2-7c3c-49c0-9862-f29b285717bb",
     "showTitle": false,
     "tableResultSettingsMap": {},
     "title": ""
    }
   },
   "outputs": [],
   "source": []
  }
 ],
 "metadata": {
  "application/vnd.databricks.v1+notebook": {
   "computePreferences": null,
   "dashboards": [],
   "environmentMetadata": {
    "base_environment": "",
    "environment_version": "2"
   },
   "inputWidgetPreferences": null,
   "language": "python",
   "notebookMetadata": {
    "mostRecentlyExecutedCommandWithImplicitDF": {
     "commandId": 8943251668301229,
     "dataframes": [
      "_sqldf"
     ]
    },
    "pythonIndentUnit": 4
   },
   "notebookName": "Patient",
   "widgets": {}
  },
  "language_info": {
   "name": "python"
  }
 },
 "nbformat": 4,
 "nbformat_minor": 0
}
