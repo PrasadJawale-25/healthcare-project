{
 "cells": [
  {
   "cell_type": "code",
   "execution_count": 0,
   "metadata": {
    "application/vnd.databricks.v1+cell": {
     "cellMetadata": {
      "byteLimit": 2048000,
      "rowLimit": 10000
     },
     "inputWidgets": {},
     "nuid": "1d287381-8950-4f06-a873-bf5162e34ebc",
     "showTitle": false,
     "tableResultSettingsMap": {},
     "title": ""
    }
   },
   "outputs": [],
   "source": [
    "df_hosa = spark.read.parquet(\"/mnt/bronze/hosa/transactions\")\n",
    "df_hosa.createOrReplaceTempView(\"hosa_transactions\")\n",
    "\n",
    "df_hosb = spark.read.parquet(\"/mnt/bronze/hosb/transactions\")\n",
    "df_hosb.createOrReplaceTempView(\"hosb_transactions\")"
   ]
  },
  {
   "cell_type": "code",
   "execution_count": 0,
   "metadata": {
    "application/vnd.databricks.v1+cell": {
     "cellMetadata": {
      "byteLimit": 2048000,
      "implicitDf": true,
      "rowLimit": 10000
     },
     "inputWidgets": {},
     "nuid": "8c26eb24-bb2b-488c-9e4d-fb460b1f37f0",
     "showTitle": false,
     "tableResultSettingsMap": {},
     "title": ""
    }
   },
   "outputs": [],
   "source": [
    "%sql\n",
    "select  * from hosa_transactions"
   ]
  },
  {
   "cell_type": "code",
   "execution_count": 0,
   "metadata": {
    "application/vnd.databricks.v1+cell": {
     "cellMetadata": {
      "byteLimit": 2048000,
      "implicitDf": true,
      "rowLimit": 10000
     },
     "inputWidgets": {},
     "nuid": "37bd03d8-bc23-4b89-a4e3-69af2195ba96",
     "showTitle": false,
     "tableResultSettingsMap": {},
     "title": ""
    }
   },
   "outputs": [],
   "source": [
    "%sql\n",
    "select * from hosb_transactions"
   ]
  },
  {
   "cell_type": "code",
   "execution_count": 0,
   "metadata": {
    "application/vnd.databricks.v1+cell": {
     "cellMetadata": {
      "byteLimit": 2048000,
      "rowLimit": 10000
     },
     "inputWidgets": {},
     "nuid": "73c3bf84-c9df-48a5-9395-133d009bab20",
     "showTitle": false,
     "tableResultSettingsMap": {},
     "title": ""
    }
   },
   "outputs": [],
   "source": [
    "for col1 in df_hosa.columns:\n",
    "  for col2 in df_hosb.columns:\n",
    "    if col1 == col2:\n",
    "      print(col1)\n",
    "    else:\n",
    "        pass"
   ]
  },
  {
   "cell_type": "code",
   "execution_count": 0,
   "metadata": {
    "application/vnd.databricks.v1+cell": {
     "cellMetadata": {
      "byteLimit": 2048000,
      "implicitDf": true,
      "rowLimit": 10000
     },
     "inputWidgets": {},
     "nuid": "404995dc-01b2-4a36-943a-a75e34432c83",
     "showTitle": false,
     "tableResultSettingsMap": {},
     "title": ""
    }
   },
   "outputs": [],
   "source": [
    "%sql\n",
    "create or replace temp view cdm_transactions as\n",
    "select concat(TransactionID, '-',datasource)as SRC_Transaction_Key, * from\n",
    " (\n",
    "select * from hosa_transactions\n",
    "union all\n",
    "select * from hosb_transactions\n",
    ")"
   ]
  },
  {
   "cell_type": "code",
   "execution_count": 0,
   "metadata": {
    "application/vnd.databricks.v1+cell": {
     "cellMetadata": {
      "byteLimit": 2048000,
      "implicitDf": true,
      "rowLimit": 10000
     },
     "inputWidgets": {},
     "nuid": "07304bd8-53ac-4ac3-b974-a3c9136bfd86",
     "showTitle": false,
     "tableResultSettingsMap": {},
     "title": ""
    }
   },
   "outputs": [],
   "source": [
    "%sql\n",
    "select * from cdm_transactions"
   ]
  },
  {
   "cell_type": "code",
   "execution_count": 0,
   "metadata": {
    "application/vnd.databricks.v1+cell": {
     "cellMetadata": {
      "byteLimit": 2048000,
      "implicitDf": true,
      "rowLimit": 10000
     },
     "inputWidgets": {},
     "nuid": "28a9bf34-2c4e-46c4-8680-ada026c6383e",
     "showTitle": false,
     "tableResultSettingsMap": {},
     "title": ""
    }
   },
   "outputs": [],
   "source": [
    "%sql\n",
    "create or replace temp view quality_checks as (\n",
    "    SELECT \n",
    "     concat(TransactionID,'-',datasource) as TransactionID,\n",
    "     TransactionID as SRC_TransactionID,\n",
    "     EncounterID,\n",
    "     PatientID,\n",
    "     ProviderID,\n",
    "     DeptID,\n",
    "     VisitDate,\n",
    "     ServiceDate,\n",
    "     PaidDate,\n",
    "     VisitType,\n",
    "     Amount,\n",
    "     AmountType,\n",
    "     PaidAmount,\n",
    "     ClaimID,\n",
    "     PayorID,\n",
    "     ProcedureCode,\n",
    "     ICDCode,\n",
    "     LineOfBusiness,\n",
    "     MedicaidID,\n",
    "     MedicareID,\n",
    "     InsertDate as SRC_InsertDate,\n",
    "     ModifiedDate as SRC_ModifiedDate,\n",
    "     datasource,\n",
    "         CASE \n",
    "             WHEN EncounterID IS NULL OR PatientID IS NULL OR TransactionID IS NULL OR VisitDate IS NULL THEN TRUE\n",
    "             ELSE FALSE\n",
    "         END AS is_quarantined\n",
    "\n",
    "from cdm_transactions\n",
    ")"
   ]
  },
  {
   "cell_type": "code",
   "execution_count": 0,
   "metadata": {
    "application/vnd.databricks.v1+cell": {
     "cellMetadata": {
      "byteLimit": 2048000,
      "implicitDf": true,
      "rowLimit": 10000
     },
     "inputWidgets": {},
     "nuid": "46db810a-fdec-44cd-a811-57bcda879f52",
     "showTitle": false,
     "tableResultSettingsMap": {},
     "title": ""
    }
   },
   "outputs": [],
   "source": [
    "%sql\n",
    "select * from quality_checks"
   ]
  },
  {
   "cell_type": "code",
   "execution_count": 0,
   "metadata": {
    "application/vnd.databricks.v1+cell": {
     "cellMetadata": {
      "byteLimit": 2048000,
      "implicitDf": true,
      "rowLimit": 10000
     },
     "inputWidgets": {},
     "nuid": "808ee042-7dff-4c3e-9839-1cd7c2cab4f8",
     "showTitle": false,
     "tableResultSettingsMap": {},
     "title": ""
    }
   },
   "outputs": [],
   "source": [
    " %sql\n",
    " CREATE TABLE IF NOT EXISTS silver.transactions (\n",
    "   TransactionID string,\n",
    "   SRC_TransactionID string,\n",
    "   EncounterID string,\n",
    "   PatientID string,\n",
    "   ProviderID string,\n",
    "   DeptID string,\n",
    "   VisitDate date,\n",
    "   ServiceDate date,\n",
    "   PaidDate date,\n",
    "   VisitType string,\n",
    "   Amount double,\n",
    "   AmountType string,\n",
    "   PaidAmount double,\n",
    "   ClaimID string,\n",
    "   PayorID string,\n",
    "   ProcedureCode integer,\n",
    "   ICDCode string,\n",
    "   LineOfBusiness string,\n",
    "   MedicaidID string,\n",
    "   MedicareID string,\n",
    "   SRC_InsertDate date,\n",
    "   SRC_ModifiedDate date,\n",
    "   datasource string,\n",
    "   is_quarantined boolean,\n",
    "   audit_insertdate timestamp,\n",
    "   audit_modifieddate timestamp,\n",
    "   is_current boolean\n",
    " )\n",
    " USING DELTA;"
   ]
  },
  {
   "cell_type": "code",
   "execution_count": 0,
   "metadata": {
    "application/vnd.databricks.v1+cell": {
     "cellMetadata": {
      "byteLimit": 2048000,
      "implicitDf": true,
      "rowLimit": 10000
     },
     "inputWidgets": {},
     "nuid": "d8eddce4-3f24-416f-ae08-9fef36e1f667",
     "showTitle": false,
     "tableResultSettingsMap": {},
     "title": ""
    }
   },
   "outputs": [],
   "source": [
    "%sql\n",
    "merge into silver.transactions as target\n",
    "using quality_checks as source\n",
    "on target.TransactionID == source.TransactionID\n",
    "and target.is_current = true\n",
    "when matched \n",
    "and(\n",
    "     target.SRC_TransactionID != source.SRC_TransactionID\n",
    "  or target.EncounterID != source.EncounterID\n",
    "  or target.PatientID != source.PatientID\n",
    "  or target.ProviderID != source.ProviderID\n",
    "  or target.DeptID != source.DeptID\n",
    "  or target.VisitDate != source.VisitDate\n",
    "  or target.ServiceDate != source.ServiceDate\n",
    "  or target.PaidDate != source.PaidDate\n",
    "  or target.VisitType != source.VisitType\n",
    "  or target.Amount != source.Amount\n",
    "  or target.AmountType != source.AmountType\n",
    "  or target.PaidAmount != source.PaidAmount\n",
    "  or target.ClaimID != source.ClaimID\n",
    "  or target.PayorID != source.PayorID\n",
    "  or target.ProcedureCode != source.ProcedureCode\n",
    "  or target.ICDCode != source.ICDCode\n",
    "  or target.LineOfBusiness != source.LineOfBusiness\n",
    "  or target.MedicaidID != source.MedicaidID\n",
    "  or target.MedicareID != source.MedicareID\n",
    "  or target.SRC_InsertDate != source.SRC_InsertDate\n",
    "  or target.SRC_ModifiedDate != source.SRC_ModifiedDate\n",
    "  or target.datasource != source.datasource\n",
    "  or target.is_quarantined != source.is_quarantined\n",
    ")\n",
    "then update set target.audit_modifieddate = current_timestamp(),\n",
    "                target.is_current = false\n",
    "\n",
    "when not matched\n",
    "\n",
    "then insert (\n",
    "   TransactionID,\n",
    "   SRC_TransactionID,\n",
    "   EncounterID,\n",
    "   PatientID,\n",
    "   ProviderID,\n",
    "   DeptID,\n",
    "   VisitDate,\n",
    "   ServiceDate,\n",
    "   PaidDate,\n",
    "   VisitType,\n",
    "   Amount,\n",
    "   AmountType,\n",
    "   PaidAmount,\n",
    "   ClaimID,\n",
    "   PayorID,\n",
    "   ProcedureCode,\n",
    "   ICDCode,\n",
    "   LineOfBusiness,\n",
    "   MedicaidID,\n",
    "   MedicareID,\n",
    "   SRC_InsertDate,\n",
    "   SRC_ModifiedDate,\n",
    "   datasource,\n",
    "   is_quarantined,\n",
    "   audit_insertdate,\n",
    "   audit_modifieddate,\n",
    "   is_current\n",
    ") values (\n",
    "   source.TransactionID,\n",
    "   source.SRC_TransactionID,\n",
    "   source.EncounterID,\n",
    "   source.PatientID,\n",
    "   source.ProviderID,\n",
    "   source.DeptID,\n",
    "   source.VisitDate,\n",
    "   source.ServiceDate,\n",
    "   source.PaidDate,\n",
    "   source.VisitType,\n",
    "   source.Amount,\n",
    "   source.AmountType,\n",
    "   source.PaidAmount,\n",
    "   source.ClaimID,\n",
    "   source.PayorID,\n",
    "   source.ProcedureCode,\n",
    "   source.ICDCode,\n",
    "   source.LineOfBusiness,\n",
    "   source.MedicaidID,\n",
    "   source.MedicareID,\n",
    "   source.SRC_InsertDate,\n",
    "   source.SRC_ModifiedDate,\n",
    "   source.datasource,\n",
    "   source.is_quarantined,\n",
    "   current_timestamp(),\n",
    "   current_timestamp(),\n",
    "   true\n",
    ")"
   ]
  },
  {
   "cell_type": "code",
   "execution_count": 0,
   "metadata": {
    "application/vnd.databricks.v1+cell": {
     "cellMetadata": {},
     "inputWidgets": {},
     "nuid": "f5fd4433-c697-404f-9e6a-e3dc4ecddb64",
     "showTitle": false,
     "tableResultSettingsMap": {},
     "title": ""
    }
   },
   "outputs": [],
   "source": []
  }
 ],
 "metadata": {
  "application/vnd.databricks.v1+notebook": {
   "computePreferences": null,
   "dashboards": [],
   "environmentMetadata": {
    "base_environment": "",
    "environment_version": "2"
   },
   "inputWidgetPreferences": null,
   "language": "python",
   "notebookMetadata": {
    "mostRecentlyExecutedCommandWithImplicitDF": {
     "commandId": 8943251668301241,
     "dataframes": [
      "_sqldf"
     ]
    },
    "pythonIndentUnit": 4
   },
   "notebookName": "transactions",
   "widgets": {}
  },
  "language_info": {
   "name": "python"
  }
 },
 "nbformat": 4,
 "nbformat_minor": 0
}
