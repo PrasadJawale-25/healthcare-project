{
 "cells": [
  {
   "cell_type": "code",
   "execution_count": 0,
   "metadata": {
    "application/vnd.databricks.v1+cell": {
     "cellMetadata": {
      "byteLimit": 2048000,
      "rowLimit": 10000
     },
     "inputWidgets": {},
     "nuid": "db888065-600c-4cb3-b74e-67a05b9ca202",
     "showTitle": false,
     "tableResultSettingsMap": {},
     "title": ""
    }
   },
   "outputs": [],
   "source": [
    "from pyspark.sql.functions import *"
   ]
  },
  {
   "cell_type": "code",
   "execution_count": 0,
   "metadata": {
    "application/vnd.databricks.v1+cell": {
     "cellMetadata": {
      "byteLimit": 2048000,
      "rowLimit": 10000
     },
     "inputWidgets": {},
     "nuid": "4e9256dd-7d27-4517-8aaf-022fb89b0275",
     "showTitle": false,
     "tableResultSettingsMap": {},
     "title": ""
    }
   },
   "outputs": [],
   "source": [
    "\n",
    "\n",
    "encounter_hosa = spark.read.parquet(\"/mnt/bronze/hosa/encounters\").withColumn(\"EncounterID_Key\", concat(col(\"encounterID\"),lit(\"-\"),col(\"datasource\")))\n",
    "display(encounter_hosa)"
   ]
  },
  {
   "cell_type": "code",
   "execution_count": 0,
   "metadata": {
    "application/vnd.databricks.v1+cell": {
     "cellMetadata": {
      "byteLimit": 2048000,
      "rowLimit": 10000
     },
     "inputWidgets": {},
     "nuid": "d2095117-59a9-48c2-b9db-7bd71cba0ac1",
     "showTitle": false,
     "tableResultSettingsMap": {},
     "title": ""
    }
   },
   "outputs": [],
   "source": [
    "encounter_hosb = spark.read.parquet(\"/mnt/bronze/hosb/encounters\").withColumn(\"EncounterID_Key\", concat(col(\"encounterID\"),lit(\"-\"),col(\"datasource\")))\n",
    "display(encounter_hosb)"
   ]
  },
  {
   "cell_type": "code",
   "execution_count": 0,
   "metadata": {
    "application/vnd.databricks.v1+cell": {
     "cellMetadata": {
      "byteLimit": 2048000,
      "rowLimit": 10000
     },
     "inputWidgets": {},
     "nuid": "c33440e6-91ed-414d-9fdf-235cb85834d3",
     "showTitle": false,
     "tableResultSettingsMap": {},
     "title": ""
    }
   },
   "outputs": [],
   "source": [
    "merged_df = encounter_hosa.unionByName(encounter_hosb)\n",
    "display(merged_df)"
   ]
  },
  {
   "cell_type": "code",
   "execution_count": 0,
   "metadata": {
    "application/vnd.databricks.v1+cell": {
     "cellMetadata": {
      "byteLimit": 2048000,
      "rowLimit": 10000
     },
     "inputWidgets": {},
     "nuid": "88510152-4a4c-4996-9304-cae28e10ec47",
     "showTitle": false,
     "tableResultSettingsMap": {},
     "title": ""
    }
   },
   "outputs": [],
   "source": [
    "merged_df.createOrReplaceTempView(\"encounters\")"
   ]
  },
  {
   "cell_type": "code",
   "execution_count": 0,
   "metadata": {
    "application/vnd.databricks.v1+cell": {
     "cellMetadata": {
      "byteLimit": 2048000,
      "implicitDf": true,
      "rowLimit": 10000
     },
     "inputWidgets": {},
     "nuid": "8ba88340-6218-4ff0-90fc-aa528adc6ae7",
     "showTitle": false,
     "tableResultSettingsMap": {},
     "title": ""
    }
   },
   "outputs": [],
   "source": [
    "%sql\n",
    "create or replace temp view quality_checks as (\n",
    "  select \n",
    "                EncounterID as SRC_EncounterID,\n",
    "                PatientID,\n",
    "                EncounterDate,\n",
    "                EncounterType,\n",
    "                ProviderID,\n",
    "                DepartmentID,\n",
    "                ProcedureCode,\n",
    "                InsertedDate as SRC_InsertedDate,\n",
    "                ModifiedDate as SRC_ModifiedDate,\n",
    "                datasource,\n",
    "                EncounterID_Key,\n",
    "                Case when EncounterID is null or PatientID is null then true\n",
    "                else false\n",
    "                end as is_quarantined\n",
    "from encounters\n",
    ")"
   ]
  },
  {
   "cell_type": "code",
   "execution_count": 0,
   "metadata": {
    "application/vnd.databricks.v1+cell": {
     "cellMetadata": {
      "byteLimit": 2048000,
      "implicitDf": true,
      "rowLimit": 10000
     },
     "inputWidgets": {},
     "nuid": "dda17e33-c15f-4afd-8bcc-8407e0df5eca",
     "showTitle": false,
     "tableResultSettingsMap": {},
     "title": ""
    }
   },
   "outputs": [],
   "source": [
    "%sql\n",
    "select * from quality_checks"
   ]
  },
  {
   "cell_type": "code",
   "execution_count": 0,
   "metadata": {
    "application/vnd.databricks.v1+cell": {
     "cellMetadata": {
      "byteLimit": 2048000,
      "implicitDf": true,
      "rowLimit": 10000
     },
     "inputWidgets": {},
     "nuid": "0f76848f-0d3f-427e-89e9-6a379af2fd8a",
     "showTitle": false,
     "tableResultSettingsMap": {},
     "title": ""
    }
   },
   "outputs": [],
   "source": [
    "%sql\n",
    "create table if not exists silver.encounters (\n",
    "                EncounterID string,\n",
    "                PatientID string,\n",
    "                EncounterDate date,\n",
    "                EncounterType string,\n",
    "                ProviderID string,\n",
    "                DepartmentID string,\n",
    "                ProcedureCode integer,\n",
    "                InsertedDate date,\n",
    "                ModifiedDate date,\n",
    "                datasource string,\n",
    "                EncounterID_Key string,\n",
    "                is_quarantined boolean,\n",
    "                audit_InsertedDate timestamp,\n",
    "                audit_ModifiedDate timestamp,\n",
    "                is_current boolean\n",
    ") USING DELTA"
   ]
  },
  {
   "cell_type": "code",
   "execution_count": 0,
   "metadata": {
    "application/vnd.databricks.v1+cell": {
     "cellMetadata": {
      "byteLimit": 2048000,
      "implicitDf": true,
      "rowLimit": 10000
     },
     "inputWidgets": {},
     "nuid": "b6015371-168f-44fc-bfbf-5f590f43b760",
     "showTitle": false,
     "tableResultSettingsMap": {},
     "title": ""
    }
   },
   "outputs": [],
   "source": [
    "%sql\n",
    "merge into silver.encounters as target \n",
    "using quality_checks as source\n",
    "on target.EncounterID_Key = source.EncounterID_Key\n",
    "and target.is_current = true\n",
    "when matched\n",
    "and (\n",
    "  target.EncounterID != source.SRC_EncounterID\n",
    "  or target.PatientID != source.PatientID\n",
    "  or target.EncounterDate != source.EncounterDate\n",
    "  or target.EncounterType != source.EncounterType\n",
    "  or target.ProviderID != source.ProviderID\n",
    "  or target.DepartmentID != source.DepartmentID\n",
    "  or target.ProcedureCode != source.ProcedureCode\n",
    "  or target.audit_InsertedDate != source.SRC_InsertedDate\n",
    "  or target.audit_ModifiedDate != source.SRC_ModifiedDate\n",
    "  or target.datasource != source.datasource\n",
    "  or target.is_quarantined != source.is_quarantined\n",
    ")then update set\n",
    "target.audit_ModifiedDate = current_timestamp(),\n",
    "target.is_current = false\n",
    "when not matched then insert (\n",
    "                EncounterID ,\n",
    "                PatientID ,\n",
    "                EncounterDate ,\n",
    "                EncounterType ,\n",
    "                ProviderID ,\n",
    "                DepartmentID ,\n",
    "                ProcedureCode ,\n",
    "                InsertedDate ,\n",
    "                ModifiedDate ,\n",
    "                datasource ,\n",
    "                EncounterID_Key ,\n",
    "                is_quarantined ,\n",
    "                audit_InsertedDate ,\n",
    "                audit_ModifiedDate ,\n",
    "                is_current \n",
    ")values(\n",
    "                source.SRC_EncounterID ,\n",
    "                source.PatientID ,\n",
    "                source.EncounterDate ,\n",
    "                source.EncounterType ,\n",
    "                source.ProviderID ,\n",
    "                source.DepartmentID ,\n",
    "                source.ProcedureCode ,\n",
    "                source.SRC_InsertedDate ,\n",
    "                source.SRC_ModifiedDate ,\n",
    "                source.datasource ,\n",
    "                source.EncounterID_Key ,\n",
    "                source.is_quarantined ,\n",
    "                current_timestamp(),\n",
    "                current_timestamp(),\n",
    "                true\n",
    ")"
   ]
  },
  {
   "cell_type": "code",
   "execution_count": 0,
   "metadata": {
    "application/vnd.databricks.v1+cell": {
     "cellMetadata": {
      "byteLimit": 2048000,
      "implicitDf": true,
      "rowLimit": 10000
     },
     "inputWidgets": {},
     "nuid": "9cb5a08f-9aa5-4a60-a491-1b55177ce924",
     "showTitle": false,
     "tableResultSettingsMap": {},
     "title": ""
    }
   },
   "outputs": [],
   "source": [
    "%sql\n",
    "select  * from silver.encounters"
   ]
  },
  {
   "cell_type": "code",
   "execution_count": 0,
   "metadata": {
    "application/vnd.databricks.v1+cell": {
     "cellMetadata": {
      "byteLimit": 2048000,
      "implicitDf": true,
      "rowLimit": 10000
     },
     "inputWidgets": {},
     "nuid": "335e1e87-38c2-422e-8d36-57b0c7eeaf93",
     "showTitle": false,
     "tableResultSettingsMap": {},
     "title": ""
    }
   },
   "outputs": [],
   "source": [
    "\n",
    " %sql\n",
    "  select EncounterID,count(patientid) from  silver.encounters\n",
    "  group by all\n",
    "  order by 2 desc"
   ]
  }
 ],
 "metadata": {
  "application/vnd.databricks.v1+notebook": {
   "computePreferences": null,
   "dashboards": [],
   "environmentMetadata": {
    "base_environment": "",
    "environment_version": "2"
   },
   "inputWidgetPreferences": null,
   "language": "python",
   "notebookMetadata": {
    "mostRecentlyExecutedCommandWithImplicitDF": {
     "commandId": 8888292090166662,
     "dataframes": [
      "_sqldf"
     ]
    },
    "pythonIndentUnit": 4
   },
   "notebookName": "Encounters",
   "widgets": {}
  },
  "language_info": {
   "name": "python"
  }
 },
 "nbformat": 4,
 "nbformat_minor": 0
}
