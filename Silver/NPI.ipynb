{
 "cells": [
  {
   "cell_type": "code",
   "execution_count": 0,
   "metadata": {
    "application/vnd.databricks.v1+cell": {
     "cellMetadata": {
      "byteLimit": 2048000,
      "rowLimit": 10000
     },
     "inputWidgets": {},
     "nuid": "04db3c0f-d9a4-4737-9118-d80440d29a3b",
     "showTitle": false,
     "tableResultSettingsMap": {},
     "title": ""
    }
   },
   "outputs": [],
   "source": [
    "npi_df = spark.read.parquet(\"/mnt/bronze/npi_extract\")\n",
    "npi_df.createOrReplaceTempView(\"npi\")"
   ]
  },
  {
   "cell_type": "code",
   "execution_count": 0,
   "metadata": {
    "application/vnd.databricks.v1+cell": {
     "cellMetadata": {
      "byteLimit": 2048000,
      "implicitDf": true,
      "rowLimit": 10000
     },
     "inputWidgets": {},
     "nuid": "f80e9791-923f-45e1-b44b-c141e38dfd82",
     "showTitle": false,
     "tableResultSettingsMap": {},
     "title": ""
    }
   },
   "outputs": [],
   "source": [
    "%sql\n",
    "select * from npi"
   ]
  },
  {
   "cell_type": "code",
   "execution_count": 0,
   "metadata": {
    "application/vnd.databricks.v1+cell": {
     "cellMetadata": {
      "byteLimit": 2048000,
      "implicitDf": true,
      "rowLimit": 10000
     },
     "inputWidgets": {},
     "nuid": "f2bb4e49-546b-452b-bd3c-f08d31d1e7af",
     "showTitle": false,
     "tableResultSettingsMap": {},
     "title": ""
    }
   },
   "outputs": [],
   "source": [
    "%sql\n",
    "create or replace temp view quality_checks\n",
    "as \n",
    "select *, \n",
    "case when npi_id is null then true\n",
    "else false\n",
    "end as is_quarantined\n",
    "from npi "
   ]
  },
  {
   "cell_type": "code",
   "execution_count": 0,
   "metadata": {
    "application/vnd.databricks.v1+cell": {
     "cellMetadata": {
      "byteLimit": 2048000,
      "implicitDf": true,
      "rowLimit": 10000
     },
     "inputWidgets": {},
     "nuid": "64995241-64a3-4edd-aa44-50a62f67af46",
     "showTitle": false,
     "tableResultSettingsMap": {},
     "title": ""
    }
   },
   "outputs": [],
   "source": [
    "%sql\n",
    "select * from quality_checks"
   ]
  },
  {
   "cell_type": "code",
   "execution_count": 0,
   "metadata": {
    "application/vnd.databricks.v1+cell": {
     "cellMetadata": {
      "byteLimit": 2048000,
      "implicitDf": true,
      "rowLimit": 10000
     },
     "inputWidgets": {},
     "nuid": "bcc7c6ca-18ba-4eaa-b76e-f580f22dfa68",
     "showTitle": false,
     "tableResultSettingsMap": {},
     "title": ""
    }
   },
   "outputs": [],
   "source": [
    "%sql\n",
    "create table if not exists silver.npi_ext(\n",
    "    first_name string,\n",
    "    last_name string,\n",
    "    last_updated date,\n",
    "    npi_id string,\n",
    "    organisation_name string,\n",
    "    position string,\n",
    "    refreshed_at date,\n",
    "    is_quarantined boolean,\n",
    "    inserted_date timestamp,\n",
    "    modified_date timestamp,\n",
    "    is_current boolean\n",
    ")"
   ]
  },
  {
   "cell_type": "code",
   "execution_count": 0,
   "metadata": {
    "application/vnd.databricks.v1+cell": {
     "cellMetadata": {
      "byteLimit": 2048000,
      "implicitDf": true,
      "rowLimit": 10000
     },
     "inputWidgets": {},
     "nuid": "ab494d66-869b-4971-915d-6db3c67665ee",
     "showTitle": false,
     "tableResultSettingsMap": {},
     "title": ""
    }
   },
   "outputs": [],
   "source": [
    "%sql\n",
    "merge into silver.npi_ext as target\n",
    "using quality_checks as source\n",
    "on target.npi_id = source.npi_id\n",
    "and is_current = true\n",
    "when matched and\n",
    "(\n",
    "target.first_name <> source.first_name\n",
    "or target.last_name <> source.last_name\n",
    "or target.last_updated <> source.last_updated\n",
    "or target.organisation_name <> source.organisation_name\n",
    "or target.position <> source.position\n",
    "or target.refreshed_at <> source.refreshed_at\n",
    "or target.is_quarantined <> source.is_quarantined\n",
    ")\n",
    "then update set\n",
    "target.modified_date = current_timestamp(),\n",
    "target.is_current = false\n",
    "when not matched then insert(\n",
    "    first_name,\n",
    "    last_name,\n",
    "    last_updated,\n",
    "    npi_id,\n",
    "    organisation_name,\n",
    "    position,\n",
    "    refreshed_at,\n",
    "    is_quarantined,\n",
    "    inserted_date,\n",
    "    modified_date,\n",
    "    is_current\n",
    ") values(\n",
    "    source.first_name,\n",
    "    source.last_name,\n",
    "    source.last_updated,\n",
    "    source.npi_id,\n",
    "    source.organisation_name,\n",
    "    source.position,\n",
    "    source.refreshed_at,\n",
    "    source.is_quarantined, \n",
    "    current_timestamp(),\n",
    "    current_timestamp(),\n",
    "    true\n",
    ")"
   ]
  },
  {
   "cell_type": "code",
   "execution_count": 0,
   "metadata": {
    "application/vnd.databricks.v1+cell": {
     "cellMetadata": {
      "byteLimit": 2048000,
      "implicitDf": true,
      "rowLimit": 10000
     },
     "inputWidgets": {},
     "nuid": "f4b383a4-ac97-48d1-9a31-560269ef8bfc",
     "showTitle": false,
     "tableResultSettingsMap": {},
     "title": ""
    }
   },
   "outputs": [],
   "source": [
    "%sql\n",
    "select * from silver.npi_ext"
   ]
  }
 ],
 "metadata": {
  "application/vnd.databricks.v1+notebook": {
   "computePreferences": null,
   "dashboards": [],
   "environmentMetadata": {
    "base_environment": "",
    "environment_version": "2"
   },
   "inputWidgetPreferences": null,
   "language": "python",
   "notebookMetadata": {
    "mostRecentlyExecutedCommandWithImplicitDF": {
     "commandId": 8888292090166671,
     "dataframes": [
      "_sqldf"
     ]
    },
    "pythonIndentUnit": 4
   },
   "notebookName": "NPI",
   "widgets": {}
  },
  "language_info": {
   "name": "python"
  }
 },
 "nbformat": 4,
 "nbformat_minor": 0
}
