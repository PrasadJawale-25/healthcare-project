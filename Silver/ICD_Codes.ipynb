{
 "cells": [
  {
   "cell_type": "code",
   "execution_count": 0,
   "metadata": {
    "application/vnd.databricks.v1+cell": {
     "cellMetadata": {
      "byteLimit": 2048000,
      "rowLimit": 10000
     },
     "inputWidgets": {},
     "nuid": "2dbcc98b-8403-4aa3-a6b9-b8c6325580ce",
     "showTitle": false,
     "tableResultSettingsMap": {},
     "title": ""
    }
   },
   "outputs": [],
   "source": [
    "icd_df = spark.read.parquet(\"/mnt/bronze/icd_codes\")\n",
    "icd_df.createOrReplaceTempView(\"icd\")"
   ]
  },
  {
   "cell_type": "code",
   "execution_count": 0,
   "metadata": {
    "application/vnd.databricks.v1+cell": {
     "cellMetadata": {
      "byteLimit": 2048000,
      "rowLimit": 10000
     },
     "inputWidgets": {},
     "nuid": "22607490-38c0-4245-a905-c57dd4b3d2fb",
     "showTitle": false,
     "tableResultSettingsMap": {},
     "title": ""
    }
   },
   "outputs": [],
   "source": [
    "display(icd_df)"
   ]
  },
  {
   "cell_type": "code",
   "execution_count": 0,
   "metadata": {
    "application/vnd.databricks.v1+cell": {
     "cellMetadata": {
      "byteLimit": 2048000,
      "implicitDf": true,
      "rowLimit": 10000
     },
     "inputWidgets": {},
     "nuid": "13c9d781-a2e9-4cf9-994f-6f88549a27bb",
     "showTitle": false,
     "tableResultSettingsMap": {},
     "title": ""
    }
   },
   "outputs": [],
   "source": [
    "%sql\n",
    "create table if not exists silver.icd( \n",
    "  icd_code string, \n",
    "  icd_code_type string, \n",
    "  code_description string, \n",
    "  inserted_date date, \n",
    "  updated_date date, \n",
    "  is_current_flag boolean\n",
    ")"
   ]
  },
  {
   "cell_type": "code",
   "execution_count": 0,
   "metadata": {
    "application/vnd.databricks.v1+cell": {
     "cellMetadata": {
      "byteLimit": 2048000,
      "implicitDf": true,
      "rowLimit": 10000
     },
     "inputWidgets": {},
     "nuid": "069946a5-2d38-47d0-88ea-5f52758502fa",
     "showTitle": false,
     "tableResultSettingsMap": {},
     "title": ""
    }
   },
   "outputs": [],
   "source": [
    "%sql \n",
    "merge into silver.icd as target\n",
    "using icd as source\n",
    "on target.icd_code = source.icd_code\n",
    "and target.is_current_flag = true\n",
    "when matched \n",
    "and ( \n",
    "  target.icd_code_type <> source.icd_code_type \n",
    "  or target.code_description <> source.code_description \n",
    "  or target.inserted_date <> source.inserted_date \n",
    "  or target.updated_date <> source.updated_date \n",
    ")  then\n",
    "update set\n",
    "target.updated_date = current_timestamp(),\n",
    "target.is_current_flag = false\n",
    "\n",
    "when not matched then\n",
    "insert(\n",
    "  icd_code,\n",
    "  icd_code_type,\n",
    "  code_description,\n",
    "  inserted_date,\n",
    "  updated_date,\n",
    "  is_current_flag\n",
    ") values (\n",
    "  source.icd_code,\n",
    "  source.icd_code_type,\n",
    "  source.code_description,\n",
    "  source.inserted_date,\n",
    "  source.updated_date,\n",
    "  source.is_current_flag\n",
    ")"
   ]
  },
  {
   "cell_type": "code",
   "execution_count": 0,
   "metadata": {
    "application/vnd.databricks.v1+cell": {
     "cellMetadata": {
      "byteLimit": 2048000,
      "implicitDf": true,
      "rowLimit": 10000
     },
     "inputWidgets": {},
     "nuid": "45b6cfff-2023-41b6-921b-3c29a5536ec4",
     "showTitle": false,
     "tableResultSettingsMap": {},
     "title": ""
    }
   },
   "outputs": [],
   "source": [
    "%sql\n",
    "select * from silver.icd"
   ]
  }
 ],
 "metadata": {
  "application/vnd.databricks.v1+notebook": {
   "computePreferences": null,
   "dashboards": [],
   "environmentMetadata": {
    "base_environment": "",
    "environment_version": "2"
   },
   "inputWidgetPreferences": null,
   "language": "python",
   "notebookMetadata": {
    "mostRecentlyExecutedCommandWithImplicitDF": {
     "commandId": 8888292090166676,
     "dataframes": [
      "_sqldf"
     ]
    },
    "pythonIndentUnit": 4
   },
   "notebookName": "ICD_Codes",
   "widgets": {}
  },
  "language_info": {
   "name": "python"
  }
 },
 "nbformat": 4,
 "nbformat_minor": 0
}
