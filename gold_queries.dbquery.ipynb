{
 "cells": [
  {
   "cell_type": "code",
   "execution_count": 0,
   "metadata": {
    "application/vnd.databricks.v1+cell": {
     "cellMetadata": {},
     "inputWidgets": {},
     "nuid": "853f35e2-6695-40be-87d1-e7eb48fda7bf",
     "showTitle": false,
     "tableResultSettingsMap": {},
     "title": ""
    }
   },
   "outputs": [],
   "source": [
    "--Total Charge Amount per provider by department\n",
    "select\n",
    "  concat(p.FirstName, ' ', p.LastName) Provider_Name,\n",
    "  dd.Name Dept_Name,\n",
    "  sum(ft.Amount)\n",
    "from\n",
    "  gold.fact_transactions ft\n",
    "  left join gold.dim_provider p on p.ProviderID = ft.FK_ProviderID\n",
    "  left join gold.dim_department dd on dd.Dept_Id = concat(p.DeptID,'-',p.datasource)\n",
    "group by\n",
    "  all; \n",
    "\n",
    "\n",
    "--Total Charge Amount per provider by department for each month for year 2024\n",
    "select\n",
    "  concat(p.FirstName, ' ', p.LastName) Provider_Name,\n",
    "  dd.Name Dept_Name,\n",
    "  date_format(servicedate, 'yyyyMM') YYYYMM,\n",
    "  sum(ft.Amount) Total_Charge_Amt,\n",
    "  sum(ft.paidamount) Total_Paid_Amt\n",
    "from\n",
    "  gold.fact_transactions ft\n",
    "  left join gold.dim_provider p on p.ProviderID = ft.FK_ProviderID\n",
    "  left join gold.dim_department dd on dd.Dept_Id = concat(p.DeptID,'-',p.datasource)\n",
    "where\n",
    "  year(ft.ServiceDate) = 2024\n",
    "group by\n",
    "  all\n",
    "order by\n",
    "  1,\n",
    "  3;\n",
    "\n",
    "  select * from gold.dim_department;\n",
    "  select * from gold.dim_provider;\n",
    "\n",
    "  "
   ]
  }
 ],
 "metadata": {
  "application/vnd.databricks.v1+notebook": {
   "computePreferences": null,
   "dashboards": [],
   "environmentMetadata": null,
   "inputWidgetPreferences": null,
   "language": "sql",
   "notebookMetadata": {
    "sqlQueryOptions": {
     "applyAutoLimit": true,
     "catalog": "hc_premiumdb",
     "schema": "default"
    }
   },
   "notebookName": "gold_queries.dbquery.ipynb",
   "widgets": {}
  },
  "language_info": {
   "name": "sql"
  }
 },
 "nbformat": 4,
 "nbformat_minor": 0
}
