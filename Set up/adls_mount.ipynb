{
 "cells": [
  {
   "cell_type": "code",
   "execution_count": 0,
   "metadata": {
    "application/vnd.databricks.v1+cell": {
     "cellMetadata": {
      "byteLimit": 2048000,
      "rowLimit": 10000
     },
     "inputWidgets": {},
     "nuid": "143ae0a7-89d9-4e93-a4cb-5d53267a8c79",
     "showTitle": false,
     "tableResultSettingsMap": {},
     "title": ""
    }
   },
   "outputs": [],
   "source": [
    "storageAccountName = \"pjadlssa\"\n",
    "storageAccountAccessKey = dbutils.secrets.get(\"premiumdb-adls-scope\",\"pjadlssa-access-key\")\n",
    "mountPoints = [\"configs\",\"landing\",\"bronze\",\"gold\",\"silver\",\"healthcarecatalog\"]\n",
    "\n",
    "for mountPoint in mountPoints:\n",
    "    if not any (mount.mountPoint == f\"/mnt/{mountPoint}\" for mount in dbutils.fs.mounts()):\n",
    "        try:\n",
    "            dbutils.fs.mount(\n",
    "                source = \"wasbs://{}@{}.blob.core.windows.net\".format(mountPoint,storageAccountName),\n",
    "                mount_point=f\"/mnt/{mountPoint}\",\n",
    "                extra_configs={'fs.azure.account.key.' + storageAccountName + '.blob.core.windows.net':storageAccountAccessKey}\n",
    "            )\n",
    "            print(f\"{mountPoint} mount succeded\")\n",
    "        except Exception as e:\n",
    "            print(\"mount exception \", e)    \n"
   ]
  },
  {
   "cell_type": "code",
   "execution_count": 0,
   "metadata": {
    "application/vnd.databricks.v1+cell": {
     "cellMetadata": {
      "byteLimit": 2048000,
      "rowLimit": 10000
     },
     "inputWidgets": {},
     "nuid": "548e4314-902e-421f-8e5e-422e4eda0ded",
     "showTitle": false,
     "tableResultSettingsMap": {},
     "title": ""
    }
   },
   "outputs": [],
   "source": [
    "dbutils.fs.mounts()\n"
   ]
  },
  {
   "cell_type": "code",
   "execution_count": 0,
   "metadata": {
    "application/vnd.databricks.v1+cell": {
     "cellMetadata": {},
     "inputWidgets": {},
     "nuid": "55195390-243f-440f-9b0f-036bfce7b374",
     "showTitle": false,
     "tableResultSettingsMap": {},
     "title": ""
    }
   },
   "outputs": [],
   "source": []
  }
 ],
 "metadata": {
  "application/vnd.databricks.v1+notebook": {
   "computePreferences": null,
   "dashboards": [],
   "environmentMetadata": {
    "base_environment": "",
    "environment_version": "2"
   },
   "inputWidgetPreferences": null,
   "language": "python",
   "notebookMetadata": {
    "pythonIndentUnit": 4
   },
   "notebookName": "adls_mount",
   "widgets": {}
  },
  "language_info": {
   "name": "python"
  }
 },
 "nbformat": 4,
 "nbformat_minor": 0
}
